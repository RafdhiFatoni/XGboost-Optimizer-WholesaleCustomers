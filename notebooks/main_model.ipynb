{
 "cells": [
  {
   "cell_type": "code",
   "execution_count": null,
   "id": "8aa03cb1",
   "metadata": {},
   "outputs": [
    {
     "name": "stdout",
     "output_type": "stream",
     "text": [
      "The autoreload extension is already loaded. To reload it, use:\n",
      "  %reload_ext autoreload\n"
     ]
    }
   ],
   "source": [
    "# %load_ext autoreload\n",
    "# %autoreload 2"
   ]
  },
  {
   "cell_type": "code",
   "execution_count": null,
   "id": "e9ce4099",
   "metadata": {},
   "outputs": [],
   "source": [
    "# Library\n",
    "import sys\n",
    "import os\n",
    "\n",
    "# Add the parent directory to sys.path so 'src' can be imported\n",
    "sys.path.append(os.path.abspath(os.path.join(os.getcwd(), '..')))"
   ]
  },
  {
   "cell_type": "markdown",
   "id": "adb748fa",
   "metadata": {},
   "source": [
    "### Load Dataset"
   ]
  },
  {
   "cell_type": "code",
   "execution_count": 4,
   "id": "f1bc362c",
   "metadata": {},
   "outputs": [
    {
     "name": "stdout",
     "output_type": "stream",
     "text": [
      "Data processing module loaded successfully.\n",
      "Data loaded successfully from D:\\Data Rafdhi\\Programming\\Programming Project (Git)\\XGboost-Optimizer-WholesaleCustomers\\data\\wholesale-customers.csv\n"
     ]
    }
   ],
   "source": [
    "from src.data_processing import load_data\n",
    "df = load_data(\"D:\\Data Rafdhi\\Programming\\Programming Project (Git)\\XGboost-Optimizer-WholesaleCustomers\\data\\wholesale-customers.csv\")"
   ]
  },
  {
   "cell_type": "markdown",
   "id": "90367b1e",
   "metadata": {},
   "source": [
    "### Declare Feature and Target"
   ]
  },
  {
   "cell_type": "code",
   "execution_count": 5,
   "id": "de522c3a",
   "metadata": {},
   "outputs": [
    {
     "name": "stdout",
     "output_type": "stream",
     "text": [
      "Data engineering module loaded successfully.\n",
      "Features: ['Region', 'Fresh', 'Milk', 'Grocery', 'Frozen', 'Detergents_Paper', 'Delicassen']\n",
      "Target: Channel\n"
     ]
    }
   ],
   "source": [
    "from src.data_engineering import declare_features\n",
    "X, y = declare_features(df, \"Channel\")"
   ]
  },
  {
   "cell_type": "markdown",
   "id": "14c7b46c",
   "metadata": {},
   "source": [
    "- We can see that the y label contain values as 1 and 2. \n",
    "\n",
    "- We will need to convert it into 0 and 1 for further analysis. "
   ]
  },
  {
   "cell_type": "markdown",
   "id": "bba30ea0",
   "metadata": {},
   "source": [
    "### Convert Label Target"
   ]
  },
  {
   "cell_type": "code",
   "execution_count": 6,
   "id": "4295ce8b",
   "metadata": {},
   "outputs": [],
   "source": [
    "from src.data_engineering import convert_labels\n",
    "convert_labels(y, 2, 0)"
   ]
  },
  {
   "cell_type": "markdown",
   "id": "d0d60c2d",
   "metadata": {},
   "source": [
    "Now, we will convert the dataset into an optimized data structure called **Dmatrix** that XGBoost supports and gives it acclaimed performance and efficiency gains. "
   ]
  },
  {
   "cell_type": "code",
   "execution_count": 9,
   "id": "a43b84bb",
   "metadata": {},
   "outputs": [
    {
     "name": "stdout",
     "output_type": "stream",
     "text": [
      "Data engineering module loaded successfully.\n"
     ]
    }
   ],
   "source": [
    "from src.data_engineering import define_dmatrix\n",
    "df_dmatrix = define_dmatrix(X, y)"
   ]
  },
  {
   "cell_type": "markdown",
   "id": "ab6a3763",
   "metadata": {},
   "source": [
    "### Split Data"
   ]
  },
  {
   "cell_type": "code",
   "execution_count": 12,
   "id": "d17f86f0",
   "metadata": {},
   "outputs": [
    {
     "name": "stdout",
     "output_type": "stream",
     "text": [
      "Training data shape: (352, 7), (352,)\n",
      "Testing data shape: (88, 7), (88,)\n"
     ]
    }
   ],
   "source": [
    "from src.data_engineering import split_data\n",
    "X_train, X_test, y_train, y_test = split_data(X, y, test_size=0.2, random_state=42)"
   ]
  },
  {
   "cell_type": "code",
   "execution_count": null,
   "id": "c1d15009",
   "metadata": {},
   "outputs": [],
   "source": []
  }
 ],
 "metadata": {
  "kernelspec": {
   "display_name": "machine-learning",
   "language": "python",
   "name": "python3"
  },
  "language_info": {
   "codemirror_mode": {
    "name": "ipython",
    "version": 3
   },
   "file_extension": ".py",
   "mimetype": "text/x-python",
   "name": "python",
   "nbconvert_exporter": "python",
   "pygments_lexer": "ipython3",
   "version": "3.10.18"
  }
 },
 "nbformat": 4,
 "nbformat_minor": 5
}
